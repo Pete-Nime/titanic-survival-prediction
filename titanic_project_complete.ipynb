{
 "cells": [
  {
   "cell_type": "markdown",
   "id": "8043c653",
   "metadata": {},
   "source": [
    "# 🚢 Titanic Survival Prediction Project\n",
    "### Goal: Predict whether a passenger survived the Titanic disaster using machine learning\n",
    "This notebook walks through a complete data science workflow on the Titanic dataset from Kaggle."
   ]
  },
  {
   "cell_type": "code",
   "execution_count": null,
   "id": "d2cf808b",
   "metadata": {},
   "outputs": [],
   "source": [
    "import pandas as pd\n",
    "import numpy as np\n",
    "import matplotlib.pyplot as plt\n",
    "import seaborn as sns\n",
    "from sklearn.model_selection import train_test_split\n",
    "from sklearn.metrics import accuracy_score, classification_report\n",
    "from sklearn.linear_model import LogisticRegression\n",
    "from sklearn.ensemble import RandomForestClassifier\n",
    "\n",
    "%matplotlib inline\n",
    "sns.set(style=\"whitegrid\")\n"
   ]
  },
  {
   "cell_type": "code",
   "execution_count": null,
   "id": "651ef51e",
   "metadata": {},
   "outputs": [],
   "source": [
    "train_df = pd.read_csv(\"data/train.csv\")\n",
    "test_df = pd.read_csv(\"data/test.csv\")\n"
   ]
  },
  {
   "cell_type": "code",
   "execution_count": null,
   "id": "005c6a6b",
   "metadata": {},
   "outputs": [],
   "source": [
    "# Visualizations\n",
    "sns.countplot(x='Survived', data=train_df)\n",
    "plt.title(\"Survival Counts (0 = No, 1 = Yes)\");\n"
   ]
  },
  {
   "cell_type": "code",
   "execution_count": null,
   "id": "77963911",
   "metadata": {},
   "outputs": [],
   "source": [
    "sns.barplot(x='Sex', y='Survived', data=train_df)\n",
    "plt.title(\"Survival Rate by Sex\");\n"
   ]
  },
  {
   "cell_type": "code",
   "execution_count": null,
   "id": "72337db6",
   "metadata": {},
   "outputs": [],
   "source": [
    "sns.barplot(x='Pclass', y='Survived', data=train_df)\n",
    "plt.title(\"Survival Rate by Passenger Class\");\n"
   ]
  },
  {
   "cell_type": "code",
   "execution_count": null,
   "id": "7e7e7843",
   "metadata": {},
   "outputs": [],
   "source": [
    "plt.figure(figsize=(10,5))\n",
    "train_df[\"Age\"].hist(bins=30, edgecolor='black')\n",
    "plt.title(\"Age Distribution of Passengers\");\n"
   ]
  },
  {
   "cell_type": "code",
   "execution_count": null,
   "id": "d11ca10b",
   "metadata": {},
   "outputs": [],
   "source": [
    "train_df['Age'].fillna(train_df['Age'].median(), inplace=True)\n",
    "train_df['Embarked'].fillna(train_df['Embarked'].mode()[0], inplace=True)\n",
    "train_df.drop(['Cabin', 'Ticket'], axis=1, inplace=True)\n",
    "\n",
    "# Encoding\n",
    "train_df['Sex'] = train_df['Sex'].map({'male': 0, 'female': 1})\n",
    "train_df['Embarked'] = train_df['Embarked'].map({'S': 0, 'C': 1, 'Q': 2})\n",
    "\n",
    "# New features\n",
    "train_df['FamilySize'] = train_df['SibSp'] + train_df['Parch'] + 1\n",
    "train_df['IsAlone'] = (train_df['FamilySize'] == 1).astype(int)\n",
    "train_df['AgeGroup'] = pd.cut(train_df['Age'], bins=[0, 12, 18, 50, 100], labels=[0,1,2,3])\n",
    "train_df['AgeGroup'] = train_df['AgeGroup'].astype(float)\n",
    "\n",
    "# Drop unused columns\n",
    "train_df.drop(['PassengerId', 'Name', 'SibSp', 'Parch', 'Age'], axis=1, inplace=True)\n"
   ]
  },
  {
   "cell_type": "code",
   "execution_count": null,
   "id": "cccabac8",
   "metadata": {},
   "outputs": [],
   "source": [
    "test_df['Age'] = test_df['Age'].fillna(train_df['Age'].median())\n",
    "test_df['Fare'] = test_df['Fare'].fillna(test_df['Fare'].median())\n",
    "test_df['Embarked'] = test_df['Embarked'].fillna(test_df['Embarked'].mode()[0])\n",
    "test_df.drop(['Cabin', 'Ticket'], axis=1, inplace=True, errors='ignore')\n",
    "\n",
    "# Encoding\n",
    "test_df['Sex'] = test_df['Sex'].map({'male': 0, 'female': 1})\n",
    "test_df['Embarked'] = test_df['Embarked'].map({'S': 0, 'C': 1, 'Q': 2})\n",
    "\n",
    "# New features\n",
    "test_df['FamilySize'] = test_df['SibSp'] + test_df['Parch'] + 1\n",
    "test_df['IsAlone'] = (test_df['FamilySize'] == 1).astype(int)\n",
    "test_df['AgeGroup'] = pd.cut(test_df['Age'], bins=[0, 12, 18, 50, 100], labels=[0,1,2,3])\n",
    "test_df['AgeGroup'] = test_df['AgeGroup'].astype(float)\n",
    "\n",
    "# Drop unused columns\n",
    "test_df.drop(['PassengerId', 'Name', 'SibSp', 'Parch', 'Age'], axis=1, inplace=True, errors='ignore')\n"
   ]
  },
  {
   "cell_type": "code",
   "execution_count": null,
   "id": "d8f65d31",
   "metadata": {},
   "outputs": [],
   "source": [
    "X = train_df.drop(\"Survived\", axis=1)\n",
    "y = train_df[\"Survived\"]\n",
    "\n",
    "X_train, X_val, y_train, y_val = train_test_split(X, y, test_size=0.2, random_state=42)\n",
    "\n",
    "# Logistic Regression\n",
    "log_model = LogisticRegression(max_iter=1000)\n",
    "log_model.fit(X_train, y_train)\n",
    "y_pred_log = log_model.predict(X_val)\n",
    "\n",
    "print(\"Logistic Regression Accuracy:\", accuracy_score(y_val, y_pred_log))\n",
    "print(classification_report(y_val, y_pred_log))\n"
   ]
  },
  {
   "cell_type": "code",
   "execution_count": null,
   "id": "74072dad",
   "metadata": {},
   "outputs": [],
   "source": [
    "# Random Forest\n",
    "rf_model = RandomForestClassifier(n_estimators=100, random_state=42)\n",
    "rf_model.fit(X_train, y_train)\n",
    "y_pred_rf = rf_model.predict(X_val)\n",
    "\n",
    "print(\"Random Forest Accuracy:\", accuracy_score(y_val, y_pred_rf))\n",
    "print(classification_report(y_val, y_pred_rf))\n"
   ]
  }
 ],
 "metadata": {},
 "nbformat": 4,
 "nbformat_minor": 5
}
